{
  "nbformat": 4,
  "nbformat_minor": 0,
  "metadata": {
    "colab": {
      "name": "TensorFlow with GPU",
      "version": "0.3.2",
      "views": {},
      "default_view": {},
      "provenance": [],
      "collapsed_sections": []
    },
    "kernelspec": {
      "display_name": "Python 2",
      "name": "python2"
    }
  },
  "cells": [
    {
      "metadata": {
        "id": "QD1zhQI1NtzG",
        "colab_type": "text"
      },
      "cell_type": "markdown",
      "source": [
        "# First Machine Learning\n",
        "Discover if it is a human or a centaur\n"
      ]
    },
    {
      "metadata": {
        "id": "nq7vqL-IxYqI",
        "colab_type": "code",
        "colab": {
          "autoexec": {
            "startup": false,
            "wait_interval": 0
          },
          "output_extras": [
            {}
          ],
          "base_uri": "https://localhost:8080/",
          "height": 74
        },
        "outputId": "8c809f57-b04a-4da4-dd2f-8d5e7a807879",
        "executionInfo": {
          "status": "ok",
          "timestamp": 1521672755598,
          "user_tz": 180,
          "elapsed": 730,
          "user": {
            "displayName": "",
            "photoUrl": "",
            "userId": ""
          }
        }
      },
      "cell_type": "code",
      "source": [
        "#@title Default title text { vertical-output: true, output-height: 100, form-width: \"100px\", display-mode: \"both\" }\n",
        "from sklearn import tree\n",
        "import random\n",
        "\n",
        "# Caracteristics [height, pelage_color, weight, hasTail]\n",
        "COLOR_BLACK = 0\n",
        "TYPE_HUMAN = 0\n",
        "TYPE_CENTAUR = 1\n",
        "COLOR_YELLOW = 1\n",
        "COLOR_WHITE = 2\n",
        "COLOR_BROWN = 3\n",
        "\n",
        "def generate(type, get_type = True):\n",
        "  height = 0\n",
        "  pelage_color = 0\n",
        "  weight = 0\n",
        "  width = 0\n",
        "  \n",
        "  if type == TYPE_CENTAUR:\n",
        "    height = random.randint(60,300)\n",
        "    width = random.randint(10,50)\n",
        "    pelage_color = random.choice([COLOR_WHITE, COLOR_BLACK, COLOR_YELLOW, COLOR_BROWN])\n",
        "    weight = random.randint(20,300)\n",
        "  else:\n",
        "    height = random.randint(30,200)\n",
        "    width = random.randint(100,400)\n",
        "    pelage_color = random.choice([COLOR_YELLOW, COLOR_BLACK])\n",
        "    weight = random.randint(5,200)\n",
        "    \n",
        "  arr = [height,width,pelage_color, weight]\n",
        "  return (arr, type) if get_type else arr\n",
        "\n",
        "def create_dataset(number_of_data):\n",
        "  X = []\n",
        "  y = []\n",
        "  for i in range(number_of_data):\n",
        "    data = []\n",
        "    type = -1\n",
        "    choosen_one = random.choice([0,1])\n",
        "    data, type = generate(choosen_one)\n",
        "    X.append(data)\n",
        "    y.append(type)\n",
        "  return X, y\n",
        "    \n",
        "X = []\n",
        "y = []\n",
        "X,y = create_dataset(1000)\n",
        "\n",
        "classifier = tree.DecisionTreeClassifier(max_depth=1000, max_leaf_nodes=500)\n",
        "classifier.fit(X, y)\n",
        "\n",
        "theResult = generate(TYPE_HUMAN, False)\n",
        "\n",
        "\n",
        "print(theResult)\n",
        "\n",
        "prediction = classifier.predict([theResult])\n",
        "\n",
        "print('CENTAUR' if prediction[0] == 1 else 'HUMAN')"
      ],
      "execution_count": 0,
      "outputs": [
        {
          "output_type": "stream",
          "text": [
            "[44, 218, 0, 185]\n",
            "HUMAN\n"
          ],
          "name": "stdout"
        }
      ]
    },
    {
      "metadata": {
        "id": "9C8_HEyzO-bc",
        "colab_type": "code",
        "colab": {
          "autoexec": {
            "startup": false,
            "wait_interval": 0
          },
          "output_extras": [],
          "base_uri": "https://localhost:8080/",
          "height": 20
        },
        "outputId": "ca6f8938-3aea-44b7-d9e4-bfc7b41b978a",
        "executionInfo": {
          "status": "ok",
          "timestamp": 1521672870784,
          "user_tz": 180,
          "elapsed": 644,
          "user": {
            "displayName": "",
            "photoUrl": "",
            "userId": ""
          }
        }
      },
      "cell_type": "code",
      "source": [
        ""
      ],
      "execution_count": 8,
      "outputs": []
    }
  ]
}